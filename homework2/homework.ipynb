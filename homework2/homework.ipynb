{
 "cells": [
  {
   "cell_type": "code",
   "execution_count": 82,
   "metadata": {},
   "outputs": [
    {
     "name": "stdout",
     "output_type": "stream",
     "text": [
      "0.10409279170788602\n",
      "11.773307085859415\n",
      "['группа_4'] 224\n",
      "Empty DataFrame\n",
      "Columns: [index, groups, uniform, gauss_1, gauss_2, gauss_3]\n",
      "Index: []\n",
      "Самый ранний индекс для группы 'группа_5': nan\n",
      "Количество записей в колонке 'uniform' со значением не ниже 90% перцентиля: 116\n"
     ]
    },
    {
     "data": {
      "text/html": [
       "<div>\n",
       "<style scoped>\n",
       "    .dataframe tbody tr th:only-of-type {\n",
       "        vertical-align: middle;\n",
       "    }\n",
       "\n",
       "    .dataframe tbody tr th {\n",
       "        vertical-align: top;\n",
       "    }\n",
       "\n",
       "    .dataframe thead th {\n",
       "        text-align: right;\n",
       "    }\n",
       "</style>\n",
       "<table border=\"1\" class=\"dataframe\">\n",
       "  <thead>\n",
       "    <tr style=\"text-align: right;\">\n",
       "      <th></th>\n",
       "      <th>index</th>\n",
       "      <th>groups</th>\n",
       "      <th>uniform</th>\n",
       "      <th>gauss_1</th>\n",
       "      <th>gauss_2</th>\n",
       "      <th>gauss_3</th>\n",
       "    </tr>\n",
       "  </thead>\n",
       "  <tbody>\n",
       "    <tr>\n",
       "      <th>1</th>\n",
       "      <td>315</td>\n",
       "      <td>[группа_5]</td>\n",
       "      <td>77</td>\n",
       "      <td>-1.450564</td>\n",
       "      <td>-12.857952</td>\n",
       "      <td>36.332741</td>\n",
       "    </tr>\n",
       "    <tr>\n",
       "      <th>2</th>\n",
       "      <td>490</td>\n",
       "      <td>[группа_4]</td>\n",
       "      <td>96</td>\n",
       "      <td>0.182715</td>\n",
       "      <td>4.410987</td>\n",
       "      <td>44.777043</td>\n",
       "    </tr>\n",
       "    <tr>\n",
       "      <th>3</th>\n",
       "      <td>748</td>\n",
       "      <td>[группа_3]</td>\n",
       "      <td>56</td>\n",
       "      <td>0.383518</td>\n",
       "      <td>14.143233</td>\n",
       "      <td>31.437608</td>\n",
       "    </tr>\n",
       "    <tr>\n",
       "      <th>4</th>\n",
       "      <td>471</td>\n",
       "      <td>[группа_5]</td>\n",
       "      <td>52</td>\n",
       "      <td>1.025005</td>\n",
       "      <td>9.749570</td>\n",
       "      <td>52.916024</td>\n",
       "    </tr>\n",
       "    <tr>\n",
       "      <th>5</th>\n",
       "      <td>907</td>\n",
       "      <td>[группа_2]</td>\n",
       "      <td>70</td>\n",
       "      <td>-1.678947</td>\n",
       "      <td>21.061574</td>\n",
       "      <td>46.899200</td>\n",
       "    </tr>\n",
       "  </tbody>\n",
       "</table>\n",
       "</div>"
      ],
      "text/plain": [
       "   index      groups  uniform   gauss_1    gauss_2    gauss_3\n",
       "1    315  [группа_5]       77 -1.450564 -12.857952  36.332741\n",
       "2    490  [группа_4]       96  0.182715   4.410987  44.777043\n",
       "3    748  [группа_3]       56  0.383518  14.143233  31.437608\n",
       "4    471  [группа_5]       52  1.025005   9.749570  52.916024\n",
       "5    907  [группа_2]       70 -1.678947  21.061574  46.899200"
      ]
     },
     "execution_count": 82,
     "metadata": {},
     "output_type": "execute_result"
    }
   ],
   "source": [
    "import numpy as np\n",
    "import pandas as pd\n",
    "import random\n",
    "random.seed(\"АДВИ_2023\")\n",
    "\n",
    "index = list(range(1, 1001)) # создадим список на 1000 элементов\n",
    "random.shuffle(index)\n",
    "\n",
    "groups = [random.choices([\"группа_1\", \"группа_2\", \"группа_3\", \"группа_4\", \"группа_5\"], k=1) for _ in range(1, 1001)]\n",
    "\n",
    "uniform = [random.randint(50, 100) for _ in range(1000)]\n",
    "gauss_1 = np.random.normal(0, 1, 1000) # здесь может быть нужен квадрат и ниже\n",
    "gauss_2 = np.random.normal(0, 12, 1000)\n",
    "gauss_3 = np.random.normal(50, 9, 1000)\n",
    "\n",
    "df = pd.DataFrame({\n",
    "    'index' : index,\n",
    "    'groups': groups,\n",
    "    'uniform': uniform,\n",
    "    'gauss_1': gauss_1,\n",
    "    'gauss_2': gauss_2,\n",
    "    'gauss_3': gauss_3\n",
    "})\n",
    "\n",
    "df.loc[df.index % 121 == 0, 'gauss_1'] = None\n",
    "\n",
    "df.loc[df['gauss_2'].apply(lambda x: x % 1 > 0.95), 'gauss_2'] = None\n",
    "\n",
    "mean_gauss_2 = df['gauss_2'].mean()\n",
    "df['gauss_2'].fillna(mean_gauss_2, inplace=True)\n",
    "\n",
    "df.dropna(subset=['gauss_1'], inplace=True)\n",
    "\n",
    "\n",
    "print(df['gauss_2'].mean())\n",
    "print(df['gauss_2'].std())\n",
    "\n",
    "# Подсчет количества вхождений каждой группы\n",
    "counts = df['groups'].value_counts()\n",
    "\n",
    "# Получение названия наиболее часто встречающейся группы\n",
    "most_frequent_group = counts.index[0]\n",
    "\n",
    "# Получение количества вхождений наиболее часто встречающейся группы\n",
    "most_frequent_count = counts[0]\n",
    "\n",
    "# Вывод результата\n",
    "print(most_frequent_group, most_frequent_count)\n",
    "\n",
    "# Выбор строк с группой \"группа_5\"\n",
    "group_5_df = df.loc[df['groups'] == 'группа_5']\n",
    "\n",
    "print(group_5_df)\n",
    "\n",
    "# Получение минимального индекса\n",
    "earliest_index = group_5_df.index.min()\n",
    "\n",
    "# Вывод результата\n",
    "print(\"Самый ранний индекс для группы 'группа_5':\", earliest_index)\n",
    "\n",
    "# Вычисление значения 90% перцентиля\n",
    "percentile_90 = df['uniform'].quantile(0.9)\n",
    "\n",
    "# Подсчет количества записей с uniform >= 90% перцентиля\n",
    "count_uniform_above_percentile = df[df['uniform'] >= percentile_90]['uniform'].count()\n",
    "\n",
    "# Вывод результата\n",
    "print(\"Количество записей в колонке 'uniform' со значением не ниже 90% перцентиля:\", count_uniform_above_percentile)\n",
    "\n",
    "df.head()"
   ]
  },
  {
   "cell_type": "code",
   "execution_count": 84,
   "metadata": {},
   "outputs": [
    {
     "name": "stdout",
     "output_type": "stream",
     "text": [
      "0.11\n"
     ]
    }
   ],
   "source": [
    "df['gauss'] = (df['gauss_1'] + df['gauss_2']) / df['gauss_3']\n",
    "percentile_70 = df['gauss'].quantile(0.7)\n",
    "print(round(percentile_70, 2))\n"
   ]
  },
  {
   "cell_type": "code",
   "execution_count": 86,
   "metadata": {},
   "outputs": [
    {
     "ename": "ValueError",
     "evalue": "min() arg is an empty sequence",
     "output_type": "error",
     "traceback": [
      "\u001b[1;31m---------------------------------------------------------------------------\u001b[0m",
      "\u001b[1;31mValueError\u001b[0m                                Traceback (most recent call last)",
      "Cell \u001b[1;32mIn[86], line 2\u001b[0m\n\u001b[0;32m      1\u001b[0m group_5_indices \u001b[39m=\u001b[39m df[df[\u001b[39m'\u001b[39m\u001b[39mgroups\u001b[39m\u001b[39m'\u001b[39m] \u001b[39m==\u001b[39m \u001b[39m'\u001b[39m\u001b[39m[группа_5]\u001b[39m\u001b[39m'\u001b[39m]\u001b[39m.\u001b[39mindex\n\u001b[1;32m----> 2\u001b[0m earliest_index \u001b[39m=\u001b[39m \u001b[39mmin\u001b[39;49m(group_5_indices)\n\u001b[0;32m      3\u001b[0m \u001b[39mprint\u001b[39m(earliest_index)\n",
      "\u001b[1;31mValueError\u001b[0m: min() arg is an empty sequence"
     ]
    }
   ],
   "source": [
    "group_5_indices = df[df['groups'] == 'группа_5'].index\n",
    "earliest_index = min(group_5_indices)\n",
    "print(earliest_index)\n"
   ]
  }
 ],
 "metadata": {
  "kernelspec": {
   "display_name": "Python 3",
   "language": "python",
   "name": "python3"
  },
  "language_info": {
   "codemirror_mode": {
    "name": "ipython",
    "version": 3
   },
   "file_extension": ".py",
   "mimetype": "text/x-python",
   "name": "python",
   "nbconvert_exporter": "python",
   "pygments_lexer": "ipython3",
   "version": "3.9.0"
  },
  "orig_nbformat": 4
 },
 "nbformat": 4,
 "nbformat_minor": 2
}
